{
  "cells": [
    {
      "cell_type": "markdown",
      "metadata": {},
      "source": [
        "# 🧠 Brainstem Segmentation GPU Training on Google Colab\n",
        "\n",
        "This notebook provides GPU-accelerated training for the Quark brainstem segmentation model.\n",
        "\n",
        "## 📋 Setup Instructions:\n",
        "1. **Enable GPU Runtime**: Runtime → Change runtime type → GPU (T4 or better)\n",
        "2. **Upload Data Files**: Upload `imaging_data_normalized.npy` and `labels.npy` \n",
        "3. **Run All Cells**: Runtime → Run all (Ctrl+F9)\n",
        "4. **Download Results**: After training, download `best_model_colab.pth`\n",
        "\n",
        "## 🎯 Target: \n",
        "- Achieve Dice coefficient ≥ 0.87 on brainstem subdivisions\n",
        "- Expected training time: 1.5-2 hours on T4 GPU\n"
      ]
    },
    {
      "cell_type": "code",
      "execution_count": null,
      "metadata": {},
      "outputs": [],
      "source": [
        "# Check GPU availability\n",
        "import torch\n",
        "print(f\"PyTorch version: {torch.__version__}\")\n",
        "print(f\"CUDA available: {torch.cuda.is_available()}\")\n",
        "if torch.cuda.is_available():\n",
        "    print(f\"GPU Device: {torch.cuda.get_device_name(0)}\")\n",
        "    print(f\"GPU Memory: {torch.cuda.get_device_properties(0).total_memory / 1024**3:.1f} GB\")\n",
        "    !nvidia-smi\n",
        "else:\n",
        "    print(\"⚠️ No GPU detected! Please enable GPU runtime.\")\n"
      ]
    },
    {
      "cell_type": "code",
      "execution_count": null,
      "metadata": {},
      "outputs": [],
      "source": [
        "# Upload data files using Colab file upload widget\n",
        "from google.colab import files\n",
        "import os\n",
        "\n",
        "print(\"📁 Please upload your data files:\")\n",
        "print(\"   1. imaging_data_normalized.npy\")\n",
        "print(\"   2. labels.npy\")\n",
        "print(\"\\nClick the button below to upload files:\\n\")\n",
        "\n",
        "uploaded = files.upload()\n",
        "\n",
        "# Verify files were uploaded\n",
        "required_files = ['imaging_data_normalized.npy', 'labels.npy']\n",
        "missing_files = [f for f in required_files if f not in uploaded.keys()]\n",
        "\n",
        "if missing_files:\n",
        "    print(f\"❌ Missing files: {missing_files}\")\n",
        "else:\n",
        "    print(\"✅ All required files uploaded successfully!\")\n",
        "    for filename in uploaded.keys():\n",
        "        print(f\"   - {filename}: {len(uploaded[filename])/1024/1024:.1f} MB\")\n"
      ]
    },
    {
      "cell_type": "code",
      "execution_count": null,
      "metadata": {},
      "outputs": [],
      "source": [
        "# Download and import the training package from GitHub (or paste code here)\n",
        "!wget -q https://raw.githubusercontent.com/quark-project/brainstem-seg/main/colab_training_package.py 2>/dev/null || echo \"Using embedded code\"\n",
        "\n",
        "# Alternative: Embed the training code directly\n",
        "exec(open('colab_training_package.py').read()) if os.path.exists('colab_training_package.py') else None\n"
      ]
    },
    {
      "cell_type": "markdown",
      "metadata": {},
      "source": [
        "## 🔧 Model Definition and Training Setup\n",
        "\n",
        "The following cell contains the complete training pipeline including:\n",
        "- Enhanced U-Net with attention gates and deep supervision\n",
        "- Combined Dice + Focal + Boundary loss\n",
        "- GPU-optimized data augmentation\n",
        "- Mixed precision training for faster convergence\n"
      ]
    },
    {
      "cell_type": "code",
      "execution_count": null,
      "metadata": {},
      "outputs": [],
      "source": [
        "# Copy the full training code from colab_training_package.py\n",
        "# Due to size, we'll load it from a file or URL\n",
        "# Option 1: Upload colab_training_package.py with your data files\n",
        "# Option 2: Copy the code directly here\n",
        "\n",
        "# For now, let's verify the data is ready\n",
        "import os\n",
        "import numpy as np\n",
        "\n",
        "if os.path.exists('imaging_data_normalized.npy') and os.path.exists('labels.npy'):\n",
        "    data = np.load('imaging_data_normalized.npy')\n",
        "    labels = np.load('labels.npy')\n",
        "    print(f\"✅ Data loaded successfully!\")\n",
        "    print(f\"   Imaging data shape: {data.shape}\")\n",
        "    print(f\"   Labels shape: {labels.shape}\")\n",
        "    print(f\"   Unique labels: {np.unique(labels)}\")\n",
        "else:\n",
        "    print(\"⚠️ Please upload the data files first!\")\n"
      ]
    },
    {
      "cell_type": "markdown",
      "metadata": {},
      "source": [
        "## 🚀 Start Training\n",
        "\n",
        "Run the cell below to start GPU training. The model will:\n",
        "1. Train for up to 350 epochs (early stopping at Dice ≥ 0.87)\n",
        "2. Use mixed precision training for faster convergence\n",
        "3. Save the best model automatically\n",
        "4. Display real-time progress\n"
      ]
    },
    {
      "cell_type": "code",
      "execution_count": null,
      "metadata": {},
      "outputs": [],
      "source": [
        "# Run the training (requires colab_training_package.py to be uploaded or pasted above)\n",
        "# This will train the model and save the best weights\n",
        "\n",
        "# First, upload colab_training_package.py if not already done\n",
        "if not os.path.exists('colab_training_package.py'):\n",
        "    print(\"📁 Please upload colab_training_package.py\")\n",
        "    uploaded = files.upload()\n",
        "    \n",
        "# Now run the training\n",
        "if os.path.exists('colab_training_package.py'):\n",
        "    print(\"🚀 Starting GPU training...\")\n",
        "    exec(open('colab_training_package.py').read())\n",
        "else:\n",
        "    print(\"❌ colab_training_package.py not found. Please upload it first.\")\n"
      ]
    },
    {
      "cell_type": "markdown",
      "metadata": {},
      "source": [
        "## ⚠️ IMPORTANT: Upload Files First!\n",
        "\n",
        "The files need to be uploaded to Google Colab before you can extract them.\n",
        "\n",
        "**Option A: Upload the ZIP file** (Recommended)\n",
        "1. Click the folder icon 📁 in the left sidebar of Colab\n",
        "2. Click the upload button 📤 (or drag & drop)\n",
        "3. Select `/Users/camdouglas/quark/brain/modules/brainstem_segmentation/colab_upload.zip` from your local machine\n",
        "4. Wait for upload to complete (28 MB)\n",
        "\n",
        "**Option B: Use the upload widget**\n",
        "Run the cell below to use the interactive upload widget\n"
      ]
    },
    {
      "cell_type": "code",
      "execution_count": null,
      "metadata": {},
      "outputs": [],
      "source": [
        "# Upload the ZIP file using Colab's upload widget\n",
        "from google.colab import files\n",
        "import os\n",
        "\n",
        "print(\"📤 Please select colab_upload.zip from your computer:\")\n",
        "print(\"   Location: /Users/camdouglas/quark/brain/modules/brainstem_segmentation/colab_upload.zip\")\n",
        "print(\"\\nClick 'Choose Files' below:\\n\")\n",
        "\n",
        "# Upload the zip file\n",
        "uploaded = files.upload()\n",
        "\n",
        "# Check if the file was uploaded\n",
        "if 'colab_upload.zip' in uploaded:\n",
        "    print(f\"✅ Successfully uploaded colab_upload.zip ({len(uploaded['colab_upload.zip'])/1024/1024:.1f} MB)\")\n",
        "    print(\"\\nExtracting files...\")\n",
        "    !unzip -q colab_upload.zip\n",
        "    \n",
        "    # Verify extraction\n",
        "    if os.path.exists('colab_training_package.py'):\n",
        "        print(\"✅ Files extracted successfully!\")\n",
        "        print(\"\\nFiles ready:\")\n",
        "        !ls -lh *.py *.npy *.json *.md 2>/dev/null | head -10\n",
        "    else:\n",
        "        print(\"❌ Extraction failed. Please try uploading again.\")\n",
        "else:\n",
        "    print(\"❌ No file uploaded. Please try again.\")\n"
      ]
    },
    {
      "cell_type": "markdown",
      "metadata": {},
      "source": [
        "## ✅ After Upload: Run Training\n",
        "\n",
        "Once the files are uploaded and extracted, run the cell below to start training:\n"
      ]
    },
    {
      "cell_type": "code",
      "execution_count": null,
      "metadata": {},
      "outputs": [],
      "source": [
        "# Run the training after files are uploaded\n",
        "import os\n",
        "\n",
        "if os.path.exists('colab_training_package.py'):\n",
        "    print(\"🚀 Starting GPU training...\")\n",
        "    print(\"=\" * 60)\n",
        "    \n",
        "    # Execute the training package\n",
        "    exec(open('colab_training_package.py').read())\n",
        "    \n",
        "else:\n",
        "    print(\"❌ Training files not found!\")\n",
        "    print(\"Please run the upload cell above first.\")\n",
        "    print(\"\\nExpected files:\")\n",
        "    print(\"  - colab_training_package.py\")\n",
        "    print(\"  - imaging_data_normalized.npy\") \n",
        "    print(\"  - labels.npy\")\n",
        "    print(\"\\nCurrent directory contents:\")\n",
        "    !ls -la\n"
      ]
    },
    {
      "cell_type": "markdown",
      "metadata": {},
      "source": [
        "## 📥 After Training: Download Results\n",
        "\n",
        "After training completes, download the trained model:\n"
      ]
    },
    {
      "cell_type": "code",
      "execution_count": null,
      "metadata": {},
      "outputs": [],
      "source": [
        "# Download the trained model after training completes\n",
        "import os\n",
        "from google.colab import files\n",
        "\n",
        "if os.path.exists('best_model_colab.pth'):\n",
        "    print(\"📥 Downloading trained model...\")\n",
        "    files.download('best_model_colab.pth')\n",
        "    print(\"\\n✅ Model downloaded!\")\n",
        "    print(\"\\nNext steps:\")\n",
        "    print(\"1. Move the downloaded file to your Quark directory\")\n",
        "    print(\"2. Run: python /Users/camdouglas/quark/brain/modules/brainstem_segmentation/integrate_colab_model.py\")\n",
        "    print(\"3. The model will be integrated into Quark for inference\")\n",
        "    \n",
        "    # Also download training results if available\n",
        "    if os.path.exists('training_results.json'):\n",
        "        files.download('training_results.json')\n",
        "        print(\"\\n📊 Training results also downloaded\")\n",
        "else:\n",
        "    print(\"❌ No trained model found yet.\")\n",
        "    print(\"Please wait for training to complete or check for errors.\")\n"
      ]
    }
  ],
  "metadata": {
    "language_info": {
      "name": "python"
    }
  },
  "nbformat": 4,
  "nbformat_minor": 2
}
