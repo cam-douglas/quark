{
  "cells": [
    {
      "cell_type": "markdown",
      "metadata": {},
      "source": [
        "# Data Exploration & Analysis\n",
        "\n",
        "Comprehensive analysis environment for exploring brain simulation data, training results, and consciousness metrics.\n",
        "\n",
        "## Features:\n",
        "- Load and analyze simulation data from multiple sessions\n",
        "- Compare training results across different configurations\n",
        "- Explore consciousness emergence patterns\n",
        "- Statistical analysis and hypothesis testing\n",
        "- Interactive data filtering and visualization\n",
        "- Export insights and reports\n",
        "\n",
        "---\n"
      ]
    },
    {
      "cell_type": "code",
      "execution_count": null,
      "metadata": {},
      "outputs": [],
      "source": [
        "# Setup and imports\n",
        "import sys\n",
        "import os\n",
        "import numpy as np\n",
        "import pandas as pd\n",
        "import matplotlib.pyplot as plt\n",
        "import seaborn as sns\n",
        "import json\n",
        "import glob\n",
        "from datetime import datetime\n",
        "from typing import Dict, List, Any, Optional\n",
        "from scipy import stats\n",
        "from sklearn.decomposition import PCA\n",
        "from sklearn.cluster import KMeans\n",
        "\n",
        "# Add consciousness bridge to path\n",
        "sys.path.append('../consciousness_integration')\n",
        "from consciousness_bridge import quick_connect, ConsciousnessBridge\n",
        "\n",
        "# Configure plotting\n",
        "%matplotlib inline\n",
        "plt.style.use('seaborn-v0_8')\n",
        "sns.set_palette(\"husl\")\n",
        "plt.rcParams['figure.figsize'] = (12, 8)\n",
        "\n",
        "print(\"📊 Data Exploration & Analysis Environment\")\n",
        "print(\"Ready for consciousness data analysis...\")\n",
        "\n",
        "# Analysis configuration\n",
        "ANALYSIS_CONFIG = {\n",
        "    'data_sources': [\n",
        "        '../analysis/training_sessions/',\n",
        "        '../../database/',\n",
        "        '../../tests/outputs/',\n",
        "        '../../data/metrics/'\n",
        "    ],\n",
        "    'file_patterns': [\n",
        "        '*.json',\n",
        "        '*.html',\n",
        "        '*.md'\n",
        "    ],\n",
        "    'analysis_types': [\n",
        "        'training_performance',\n",
        "        'consciousness_metrics', \n",
        "        'brain_state_evolution',\n",
        "        'component_interactions',\n",
        "        'sleep_wake_patterns'\n",
        "    ]\n",
        "}\n",
        "\n",
        "print(\"🔧 Analysis Configuration Loaded\")\n"
      ]
    }
  ],
  "metadata": {
    "language_info": {
      "name": "python"
    }
  },
  "nbformat": 4,
  "nbformat_minor": 2
}
