{
  "cells": [
    {
      "cell_type": "markdown",
      "metadata": {},
      "source": [
        "# Interactive Model Training\n",
        "\n",
        "This notebook provides an interactive environment for training and experimenting with brain simulation components.\n",
        "\n",
        "## Features:\n",
        "- Connect to main consciousness agent\n",
        "- Train individual brain components\n",
        "- Monitor training progress in real-time\n",
        "- Visualize learning curves and metrics\n",
        "- Export trained models\n",
        "\n",
        "---\n"
      ]
    },
    {
      "cell_type": "code",
      "execution_count": null,
      "metadata": {},
      "outputs": [],
      "source": [
        "# Setup and imports\n",
        "import sys\n",
        "import os\n",
        "import numpy as np\n",
        "import matplotlib.pyplot as plt\n",
        "import json\n",
        "from datetime import datetime\n",
        "from typing import Dict, List, Any\n",
        "\n",
        "# Add consciousness bridge to path\n",
        "sys.path.append('../consciousness_integration')\n",
        "from consciousness_bridge import quick_connect, ConsciousnessBridge\n",
        "\n",
        "# Configure matplotlib for inline plots\n",
        "%matplotlib inline\n",
        "plt.style.use('seaborn-v0_8')\n",
        "\n",
        "print(\"🧠 Interactive Model Training Environment\")\n",
        "print(\"Ready for consciousness agent connection...\")\n"
      ]
    },
    {
      "cell_type": "markdown",
      "metadata": {},
      "source": [
        "## 1. Connect to Consciousness Agent\n",
        "\n",
        "Establish connection to the main consciousness agent for training.\n"
      ]
    },
    {
      "cell_type": "code",
      "execution_count": null,
      "metadata": {},
      "outputs": [],
      "source": [
        "# Create a unique session for this training session\n",
        "session_id = f\"training_{datetime.now().strftime('%Y%m%d_%H%M%S')}\"\n",
        "print(f\"🔗 Connecting with session ID: {session_id}\")\n",
        "\n",
        "# Connect to consciousness agent\n",
        "bridge = quick_connect(session_id)\n",
        "\n",
        "if bridge.is_connected:\n",
        "    print(\"✅ Successfully connected to consciousness agent!\")\n",
        "    initial_state = bridge.get_brain_state()\n",
        "    print(f\"📊 Initial brain state: {len(initial_state) if initial_state else 0} components active\")\n",
        "else:\n",
        "    print(\"❌ Failed to connect. Check consciousness agent status.\")\n"
      ]
    }
  ],
  "metadata": {
    "language_info": {
      "name": "python"
    }
  },
  "nbformat": 4,
  "nbformat_minor": 2
}
