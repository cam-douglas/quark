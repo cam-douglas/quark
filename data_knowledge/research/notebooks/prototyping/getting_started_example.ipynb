{
  "cells": [
    {
      "cell_type": "markdown",
      "metadata": {},
      "source": [
        "# Getting Started Example\n",
        "\n",
        "This notebook demonstrates the basic workflow for using Jupyter notebooks with your brain simulation system.\n",
        "\n",
        "## 🎯 What You'll Learn:\n",
        "- How to connect to your consciousness agent\n",
        "- Basic simulation commands\n",
        "- Data visualization\n",
        "- Saving and loading results\n",
        "\n",
        "**Perfect for first-time users!**\n",
        "\n",
        "---\n"
      ]
    },
    {
      "cell_type": "code",
      "execution_count": null,
      "metadata": {},
      "outputs": [],
      "source": [
        "# Step 1: Basic Setup\n",
        "import sys\n",
        "sys.path.append('../consciousness_integration')\n",
        "\n",
        "from consciousness_bridge import quick_connect\n",
        "import numpy as np\n",
        "import matplotlib.pyplot as plt\n",
        "\n",
        "print(\"🧠 Welcome to Quark Brain Simulation!\")\n",
        "print(\"Let's get you connected to your consciousness agent...\")\n",
        "\n",
        "# Quick connection\n",
        "bridge = quick_connect('getting_started_demo')\n",
        "\n",
        "if bridge.is_connected:\n",
        "    print(\"✅ Connected! You're ready to explore your brain simulation.\")\n",
        "else:\n",
        "    print(\"⚠️  Running in demo mode - no real brain connection\")\n"
      ]
    }
  ],
  "metadata": {
    "language_info": {
      "name": "python"
    }
  },
  "nbformat": 4,
  "nbformat_minor": 2
}
